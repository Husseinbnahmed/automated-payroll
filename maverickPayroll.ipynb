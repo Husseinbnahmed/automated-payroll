{
 "cells": [
  {
   "cell_type": "code",
   "execution_count": 224,
   "metadata": {},
   "outputs": [
    {
     "name": "stdout",
     "output_type": "stream",
     "text": [
      "The autoreload extension is already loaded. To reload it, use:\n",
      "  %reload_ext autoreload\n"
     ]
    }
   ],
   "source": [
    "import pandas as pd\n",
    "import numpy as np\n",
    "import connectteams as ct\n",
    "import time\n",
    "import openpyxl\n",
    "%load_ext autoreload\n",
    "%autoreload 2\n",
    "import datetime"
   ]
  },
  {
   "cell_type": "markdown",
   "metadata": {},
   "source": []
  },
  {
   "cell_type": "code",
   "execution_count": 225,
   "metadata": {},
   "outputs": [
    {
     "data": {
      "text/plain": [
       "(2296, 15)"
      ]
     },
     "execution_count": 225,
     "metadata": {},
     "output_type": "execute_result"
    }
   ],
   "source": [
    "df1 = pd.read_excel(r\"C:\\Users\\hussi\\Downloads\\Schedule-Export 2024-06-17 to 2024-06-23.xlsx\")\n",
    "df2 = pd.read_excel(r\"C:\\Users\\hussi\\Downloads\\Schedule-Export 2024-06-24 to 2024-06-30.xlsx\")\n",
    "#merge df and df_1\n",
    "df_two_week_schedule = pd.concat([df1, df2])\n",
    "df_two_week_schedule.shape\n"
   ]
  },
  {
   "cell_type": "code",
   "execution_count": 226,
   "metadata": {},
   "outputs": [],
   "source": [
    "# Convert Date column to datetime\n",
    "df_two_week_schedule['Date'] = pd.to_datetime(df_two_week_schedule['Date'])\n",
    "# Convert Start and End times to datetime.time\n",
    "df_two_week_schedule['Start'] = pd.to_datetime(df_two_week_schedule['Start'], format='%I:%M%p').dt.time\n",
    "df_two_week_schedule['End'] = pd.to_datetime(df_two_week_schedule['End'], format='%I:%M%p').dt.time\n"
   ]
  },
  {
   "cell_type": "code",
   "execution_count": 230,
   "metadata": {},
   "outputs": [],
   "source": [
    "df_two_week_schedule\n",
    "split_shifts = ct.split_shifts(df_two_week_schedule)\n",
    "tag_holidays = ct.holiday_tagger(split_shifts)\n",
    "extract_week_from_date = ct.get_info_from_date(tag_holidays)\n",
    "time_sheet = ct.create_time_sheet(extract_week_from_date)\n",
    "\n"
   ]
  },
  {
   "cell_type": "code",
   "execution_count": 231,
   "metadata": {},
   "outputs": [
    {
     "data": {
      "text/html": [
       "<div>\n",
       "<style scoped>\n",
       "    .dataframe tbody tr th:only-of-type {\n",
       "        vertical-align: middle;\n",
       "    }\n",
       "\n",
       "    .dataframe tbody tr th {\n",
       "        vertical-align: top;\n",
       "    }\n",
       "\n",
       "    .dataframe thead th {\n",
       "        text-align: right;\n",
       "    }\n",
       "</style>\n",
       "<table border=\"1\" class=\"dataframe\">\n",
       "  <thead>\n",
       "    <tr style=\"text-align: right;\">\n",
       "      <th></th>\n",
       "      <th>Users</th>\n",
       "      <th>Month</th>\n",
       "      <th>Year</th>\n",
       "      <th>Holiday Hours</th>\n",
       "      <th>Regular Hours</th>\n",
       "      <th>Overtime Hours</th>\n",
       "      <th>Week</th>\n",
       "    </tr>\n",
       "  </thead>\n",
       "  <tbody>\n",
       "    <tr>\n",
       "      <th>0</th>\n",
       "      <td>Aayanna Norman</td>\n",
       "      <td>6</td>\n",
       "      <td>2024</td>\n",
       "      <td>0.0</td>\n",
       "      <td>33.00</td>\n",
       "      <td>0.00</td>\n",
       "      <td>25</td>\n",
       "    </tr>\n",
       "    <tr>\n",
       "      <th>1</th>\n",
       "      <td>Aayanna Norman</td>\n",
       "      <td>6</td>\n",
       "      <td>2024</td>\n",
       "      <td>0.0</td>\n",
       "      <td>7.00</td>\n",
       "      <td>0.00</td>\n",
       "      <td>26</td>\n",
       "    </tr>\n",
       "    <tr>\n",
       "      <th>2</th>\n",
       "      <td>Abdel Munpen</td>\n",
       "      <td>6</td>\n",
       "      <td>2024</td>\n",
       "      <td>0.0</td>\n",
       "      <td>30.50</td>\n",
       "      <td>0.00</td>\n",
       "      <td>25</td>\n",
       "    </tr>\n",
       "    <tr>\n",
       "      <th>3</th>\n",
       "      <td>Abdel Munpen</td>\n",
       "      <td>6</td>\n",
       "      <td>2024</td>\n",
       "      <td>0.0</td>\n",
       "      <td>8.00</td>\n",
       "      <td>0.00</td>\n",
       "      <td>26</td>\n",
       "    </tr>\n",
       "    <tr>\n",
       "      <th>4</th>\n",
       "      <td>Abdul Khan</td>\n",
       "      <td>6</td>\n",
       "      <td>2024</td>\n",
       "      <td>0.0</td>\n",
       "      <td>33.78</td>\n",
       "      <td>0.00</td>\n",
       "      <td>25</td>\n",
       "    </tr>\n",
       "    <tr>\n",
       "      <th>...</th>\n",
       "      <td>...</td>\n",
       "      <td>...</td>\n",
       "      <td>...</td>\n",
       "      <td>...</td>\n",
       "      <td>...</td>\n",
       "      <td>...</td>\n",
       "      <td>...</td>\n",
       "    </tr>\n",
       "    <tr>\n",
       "      <th>585</th>\n",
       "      <td>Zachary Kirkendoll</td>\n",
       "      <td>6</td>\n",
       "      <td>2024</td>\n",
       "      <td>0.0</td>\n",
       "      <td>40.00</td>\n",
       "      <td>16.06</td>\n",
       "      <td>26</td>\n",
       "    </tr>\n",
       "    <tr>\n",
       "      <th>586</th>\n",
       "      <td>Zachary Kirkendoll</td>\n",
       "      <td>7</td>\n",
       "      <td>2024</td>\n",
       "      <td>0.0</td>\n",
       "      <td>2.00</td>\n",
       "      <td>0.00</td>\n",
       "      <td>27</td>\n",
       "    </tr>\n",
       "    <tr>\n",
       "      <th>587</th>\n",
       "      <td>Zariyana Canada</td>\n",
       "      <td>6</td>\n",
       "      <td>2024</td>\n",
       "      <td>0.0</td>\n",
       "      <td>40.00</td>\n",
       "      <td>3.00</td>\n",
       "      <td>25</td>\n",
       "    </tr>\n",
       "    <tr>\n",
       "      <th>588</th>\n",
       "      <td>Zariyana Canada</td>\n",
       "      <td>6</td>\n",
       "      <td>2024</td>\n",
       "      <td>0.0</td>\n",
       "      <td>35.00</td>\n",
       "      <td>0.00</td>\n",
       "      <td>26</td>\n",
       "    </tr>\n",
       "    <tr>\n",
       "      <th>589</th>\n",
       "      <td>Zariyana Canada</td>\n",
       "      <td>7</td>\n",
       "      <td>2024</td>\n",
       "      <td>0.0</td>\n",
       "      <td>0.00</td>\n",
       "      <td>0.00</td>\n",
       "      <td>27</td>\n",
       "    </tr>\n",
       "  </tbody>\n",
       "</table>\n",
       "<p>590 rows × 7 columns</p>\n",
       "</div>"
      ],
      "text/plain": [
       "                  Users Month  Year  Holiday Hours  Regular Hours  \\\n",
       "0        Aayanna Norman     6  2024            0.0          33.00   \n",
       "1        Aayanna Norman     6  2024            0.0           7.00   \n",
       "2          Abdel Munpen     6  2024            0.0          30.50   \n",
       "3          Abdel Munpen     6  2024            0.0           8.00   \n",
       "4            Abdul Khan     6  2024            0.0          33.78   \n",
       "..                  ...   ...   ...            ...            ...   \n",
       "585  Zachary Kirkendoll     6  2024            0.0          40.00   \n",
       "586  Zachary Kirkendoll     7  2024            0.0           2.00   \n",
       "587     Zariyana Canada     6  2024            0.0          40.00   \n",
       "588     Zariyana Canada     6  2024            0.0          35.00   \n",
       "589     Zariyana Canada     7  2024            0.0           0.00   \n",
       "\n",
       "     Overtime Hours Week  \n",
       "0              0.00   25  \n",
       "1              0.00   26  \n",
       "2              0.00   25  \n",
       "3              0.00   26  \n",
       "4              0.00   25  \n",
       "..              ...  ...  \n",
       "585           16.06   26  \n",
       "586            0.00   27  \n",
       "587            3.00   25  \n",
       "588            0.00   26  \n",
       "589            0.00   27  \n",
       "\n",
       "[590 rows x 7 columns]"
      ]
     },
     "execution_count": 231,
     "metadata": {},
     "output_type": "execute_result"
    }
   ],
   "source": [
    "time_sheet"
   ]
  },
  {
   "cell_type": "code",
   "execution_count": null,
   "metadata": {},
   "outputs": [],
   "source": []
  }
 ],
 "metadata": {
  "kernelspec": {
   "display_name": "Python 3",
   "language": "python",
   "name": "python3"
  },
  "language_info": {
   "codemirror_mode": {
    "name": "ipython",
    "version": 3
   },
   "file_extension": ".py",
   "mimetype": "text/x-python",
   "name": "python",
   "nbconvert_exporter": "python",
   "pygments_lexer": "ipython3",
   "version": "3.9.15"
  }
 },
 "nbformat": 4,
 "nbformat_minor": 2
}
